{
 "cells": [
  {
   "cell_type": "code",
   "execution_count": 2,
   "metadata": {},
   "outputs": [
    {
     "name": "stdout",
     "output_type": "stream",
     "text": [
      "please select operation \n",
      "1.addition\n",
      "2.substraction\n",
      "3.multiplication\n",
      "4.division\n",
      "5.modulus\n",
      "6.exponent\n",
      "7.floor division\n",
      "\n",
      "select operations form 1, 2, 3, 4, 5, 6, 7:1\n",
      "enter 1st number:2\n",
      "enter 2nd number:4\n",
      "Answer is 6\n"
     ]
    }
   ],
   "source": [
    "#1.\n",
    "print(\"please select operation \\n\"\n",
    "     \"1.addition\\n\"\n",
    "     \"2.substraction\\n\"\n",
    "     \"3.multiplication\\n\"\n",
    "     \"4.division\\n\"\n",
    "     \"5.modulus\\n\"\n",
    "     \"6.exponent\\n\"\n",
    "     \"7.floor division\\n\")\n",
    "\n",
    "#Take input from the user\n",
    "select=int(input(\"select operations form 1, 2, 3, 4, 5, 6, 7:\"))\n",
    "a=int(input(\"enter 1st number:\"))\n",
    "b=int(input(\"enter 2nd number:\"))\n",
    "if select==1:\n",
    "    x=a+b\n",
    "    print(\"Answer is\" , x)\n",
    "elif select==2:\n",
    "    x=a-b\n",
    "    print(\"Answer is\" , x)\n",
    "       \n",
    "elif select==3:\n",
    "    x=a*b   \n",
    "    print(\"Answer is\" , x)\n",
    "\n",
    "    \n",
    "elif select==4:\n",
    "    x=a/b   \n",
    "    print(\"Answer is\" , x)\n",
    "\n",
    "    \n",
    "elif select==5:\n",
    "    x=a%b\n",
    "    print(\"Answer is\" , x)\n",
    "\n",
    "elif select==6:\n",
    "    x=a**b   \n",
    "    print(\"Answer is\" , x)\n",
    "\n",
    "    \n",
    "elif select==7:\n",
    "    x=a//b\n",
    "    print(\"Answer is\" , x)\n",
    "\n",
    "else:\n",
    "    print(\"invalid input\")\n",
    "\n",
    "\n",
    "    \n",
    "\n",
    "    \n",
    "    \n",
    "\n",
    "\n"
   ]
  },
  {
   "cell_type": "code",
   "execution_count": 2,
   "metadata": {},
   "outputs": [
    {
     "name": "stdout",
     "output_type": "stream",
     "text": [
      "please select operation \n",
      "1.addition\n",
      "2.substraction\n",
      "3.multiplication\n",
      "4.division\n",
      "5.modulus\n",
      "6.exponent\n",
      "7.floor division\n",
      "\n",
      "select operations form 1, 2, 3, 4, 5, 6, 7:1\n",
      "enter 1st number:2\n",
      "enter 2nd number:4\n",
      "Answer is 6\n"
     ]
    }
   ],
   "source": [
    "#1.\n",
    "print(\"please select operation \\n\"\n",
    "     \"1.addition\\n\"\n",
    "     \"2.substraction\\n\"\n",
    "     \"3.multiplication\\n\"\n",
    "     \"4.division\\n\"\n",
    "     \"5.modulus\\n\"\n",
    "     \"6.exponent\\n\"\n",
    "     \"7.floor division\\n\")\n",
    "\n",
    "#Take input from the user\n",
    "select=int(input(\"select operations form 1, 2, 3, 4, 5, 6, 7:\"))\n",
    "a=int(input(\"enter 1st number:\"))\n",
    "b=int(input(\"enter 2nd number:\"))\n",
    "if select==1:\n",
    "    x=a+b\n",
    "    print(\"Answer is\" , x)\n",
    "elif select==2:\n",
    "    x=a-b\n",
    "    print(\"Answer is\" , x)\n",
    "       \n",
    "elif select==3:\n",
    "    x=a*b   \n",
    "    print(\"Answer is\" , x)\n",
    "\n",
    "    \n",
    "elif select==4:\n",
    "    x=a/b   \n",
    "    print(\"Answer is\" , x)\n",
    "\n",
    "    \n",
    "elif select==5:\n",
    "    x=a%b\n",
    "    print(\"Answer is\" , x)\n",
    "\n",
    "elif select==6:\n",
    "    x=a**b   \n",
    "    print(\"Answer is\" , x)\n",
    "\n",
    "    \n",
    "elif select==7:\n",
    "    x=a//b\n",
    "    print(\"Answer is\" , x)\n",
    "\n",
    "else:\n",
    "    print(\"invalid input\")\n",
    "\n",
    "\n",
    "    \n",
    "\n",
    "    \n",
    "    \n",
    "\n",
    "\n"
   ]
  },
  {
   "cell_type": "code",
   "execution_count": 3,
   "metadata": {},
   "outputs": [
    {
     "name": "stdout",
     "output_type": "stream",
     "text": [
      "enter the value of p2\n",
      "enter the value of t4\n",
      "enter the value of r6\n",
      "The simple interest is 0.48\n"
     ]
    }
   ],
   "source": [
    "#2.\n",
    "p=int(input('enter the value of p'))\n",
    "t=int(input('enter the value of t'))\n",
    "r=int(input('enter the value of r'))\n",
    "SI=(p * t * r)/100\n",
    "print('The simple interest is', SI)"
   ]
  },
  {
   "cell_type": "code",
   "execution_count": 4,
   "metadata": {},
   "outputs": [
    {
     "name": "stdout",
     "output_type": "stream",
     "text": [
      "enter the value of r8\n",
      "The area of the circle is 200.96\n"
     ]
    }
   ],
   "source": [
    "#3.\n",
    "pi=3.14\n",
    "r=int(input('enter the value of r'))\n",
    "Area=pi * r * r\n",
    "print('The area of the circle is' , Area)"
   ]
  },
  {
   "cell_type": "code",
   "execution_count": 5,
   "metadata": {},
   "outputs": [
    {
     "name": "stdout",
     "output_type": "stream",
     "text": [
      "enter the value of b6\n",
      "enter the value of h8\n",
      "The area of triangle is 24.0\n"
     ]
    }
   ],
   "source": [
    "#4.\n",
    "b=int(input('enter the value of b'))\n",
    "h=int(input('enter the value of h'))\n",
    "Area=1/2 * b * h\n",
    "print('The area of triangle is' , Area)"
   ]
  },
  {
   "cell_type": "code",
   "execution_count": 6,
   "metadata": {},
   "outputs": [
    {
     "name": "stdout",
     "output_type": "stream",
     "text": [
      "enter the temperature in celsius:98\n",
      "Temperature in farenheit is 208.4\n"
     ]
    }
   ],
   "source": [
    "#5.\n",
    "celsius=int(input('enter the temperature in celsius:'))\n",
    "f=(celsius * 1.8)+32\n",
    "print('Temperature in farenheit is' , f)"
   ]
  },
  {
   "cell_type": "code",
   "execution_count": 7,
   "metadata": {},
   "outputs": [
    {
     "name": "stdout",
     "output_type": "stream",
     "text": [
      "enter the value of l6\n",
      "enter the value of b8\n",
      "The area of the rectangle is 48\n"
     ]
    }
   ],
   "source": [
    "#6.\n",
    "l=int(input('enter the value of l'))\n",
    "b=int(input('enter the value of b'))\n",
    "Area=l * b\n",
    "print('The area of the rectangle is' , Area)\n"
   ]
  },
  {
   "cell_type": "code",
   "execution_count": 8,
   "metadata": {},
   "outputs": [
    {
     "name": "stdout",
     "output_type": "stream",
     "text": [
      "enter the value of a4\n",
      "The perimeter of a square is 16\n"
     ]
    }
   ],
   "source": [
    "#7.\n",
    "a=int(input('enter the value of a'))\n",
    "p=4 *a\n",
    "print('The perimeter of a square is' , p)"
   ]
  },
  {
   "cell_type": "code",
   "execution_count": 9,
   "metadata": {},
   "outputs": [
    {
     "name": "stdout",
     "output_type": "stream",
     "text": [
      "enter the value of r4\n",
      "The area of circumference of a circle  25.12\n"
     ]
    }
   ],
   "source": [
    "#8.\n",
    "pi=3.14\n",
    "r=int(input('enter the value of r'))\n",
    "Area=2 * pi * r\n",
    "print('The area of circumference of a circle ' , Area)"
   ]
  },
  {
   "cell_type": "code",
   "execution_count": 19,
   "metadata": {},
   "outputs": [
    {
     "name": "stdout",
     "output_type": "stream",
     "text": [
      "Before swapping :\n",
      "The value of x is 4\n",
      "The value of y is 6\n",
      "After swapping:\n",
      "The value  of x is 4\n",
      "The value of y is 6\n"
     ]
    }
   ],
   "source": [
    "#9.\n",
    "x=4\n",
    "y=6\n",
    "print('Before swapping :')\n",
    "print('The value of x is' , x)\n",
    "print('The value of y is' , y)\n",
    "temp=\n",
    "\n",
    "print('After swapping:')\n",
    "print('The value  of x is' , x)\n",
    "print('The value of y is' , y)"
   ]
  },
  {
   "cell_type": "code",
   "execution_count": null,
   "metadata": {},
   "outputs": [],
   "source": []
  },
  {
   "cell_type": "code",
   "execution_count": null,
   "metadata": {},
   "outputs": [],
   "source": []
  }
 ],
 "metadata": {
  "kernelspec": {
   "display_name": "Python 3",
   "language": "python",
   "name": "python3"
  },
  "language_info": {
   "codemirror_mode": {
    "name": "ipython",
    "version": 3
   },
   "file_extension": ".py",
   "mimetype": "text/x-python",
   "name": "python",
   "nbconvert_exporter": "python",
   "pygments_lexer": "ipython3",
   "version": "3.8.3"
  }
 },
 "nbformat": 4,
 "nbformat_minor": 4
}
