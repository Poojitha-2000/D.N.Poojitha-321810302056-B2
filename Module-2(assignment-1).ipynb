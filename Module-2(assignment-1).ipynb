{
 "cells": [
  {
   "cell_type": "code",
   "execution_count": 2,
   "metadata": {},
   "outputs": [
    {
     "name": "stdout",
     "output_type": "stream",
     "text": [
      "Enter the first number:6\n",
      "Enter the second nummber:6\n",
      "Both inputs are equal\n"
     ]
    }
   ],
   "source": [
    "#1.\n",
    "a=int(input('Enter the first number:'))\n",
    "b=int(input('Enter the second nummber:'))\n",
    "if a==b:\n",
    "    print('Both inputs are equal')\n",
    "else:\n",
    "    print('Inputs are not equal')"
   ]
  },
  {
   "cell_type": "code",
   "execution_count": 6,
   "metadata": {},
   "outputs": [
    {
     "name": "stdout",
     "output_type": "stream",
     "text": [
      "Enter the first number:2\n",
      "Enter the second number:2\n",
      "Enter the third number:4\n",
      "Two are equal out of three\n"
     ]
    }
   ],
   "source": [
    "#2.\n",
    "a=int(input('Enter the first number:'))\n",
    "b=int(input('Enter the second number:'))\n",
    "c=int(input('Enter the third number:'))\n",
    "if (a==b and b==c and a==c):\n",
    "    print('All are equal')\n",
    "elif (a==b or b==c or a==c):\n",
    "    print('Two are equal out of three')\n",
    "else:\n",
    "    print('All are different')"
   ]
  },
  {
   "cell_type": "code",
   "execution_count": 7,
   "metadata": {},
   "outputs": [
    {
     "name": "stdout",
     "output_type": "stream",
     "text": [
      "Enter the first number:4\n",
      "Enter the second number:2\n",
      "sum is greater than 5\n"
     ]
    }
   ],
   "source": [
    "#3.\n",
    "a=int(input('Enter the first number:'))\n",
    "b=int(input('Enter the second number:'))\n",
    "sum=a+b\n",
    "if sum>5:\n",
    "    print('sum is greater than 5')\n",
    "elif sum<5:\n",
    "    print('sum is less than 5')\n",
    "else:\n",
    "    print('sum is equal to 5')\n",
    "    \n"
   ]
  },
  {
   "cell_type": "code",
   "execution_count": 8,
   "metadata": {},
   "outputs": [
    {
     "name": "stdout",
     "output_type": "stream",
     "text": [
      "Enter the marks of a subject:78\n",
      "pass\n"
     ]
    }
   ],
   "source": [
    "#4.\n",
    "a=int(input('Enter the marks of a subject:'))\n",
    "if a>=35:\n",
    "    print('pass')\n",
    "else:\n",
    "    print('fail')"
   ]
  },
  {
   "cell_type": "code",
   "execution_count": 4,
   "metadata": {},
   "outputs": [
    {
     "name": "stdout",
     "output_type": "stream",
     "text": [
      "Enter the first number:10\n",
      "Enter the second number:18\n",
      "Enter the third number:12\n",
      "Maximum number is::> 18\n"
     ]
    }
   ],
   "source": [
    "#5.\n",
    "def maximum(a,b,c):\n",
    "    list = [a,b,c]\n",
    "    return max(list)\n",
    "#Driven code\n",
    "x=int(input('Enter the first number:'))\n",
    "y=int(input('Enter the second number:'))\n",
    "z=int(input('Enter the third number:'))\n",
    "print('Maximum number is::>',maximum(x, y, z))\n",
    "\n"
   ]
  },
  {
   "cell_type": "code",
   "execution_count": null,
   "metadata": {},
   "outputs": [],
   "source": []
  },
  {
   "cell_type": "code",
   "execution_count": null,
   "metadata": {},
   "outputs": [],
   "source": []
  },
  {
   "cell_type": "code",
   "execution_count": null,
   "metadata": {},
   "outputs": [],
   "source": []
  },
  {
   "cell_type": "code",
   "execution_count": null,
   "metadata": {},
   "outputs": [],
   "source": []
  },
  {
   "cell_type": "code",
   "execution_count": null,
   "metadata": {},
   "outputs": [],
   "source": []
  },
  {
   "cell_type": "code",
   "execution_count": null,
   "metadata": {},
   "outputs": [],
   "source": []
  },
  {
   "cell_type": "code",
   "execution_count": null,
   "metadata": {},
   "outputs": [],
   "source": []
  },
  {
   "cell_type": "code",
   "execution_count": null,
   "metadata": {},
   "outputs": [],
   "source": []
  },
  {
   "cell_type": "code",
   "execution_count": null,
   "metadata": {},
   "outputs": [],
   "source": []
  },
  {
   "cell_type": "code",
   "execution_count": null,
   "metadata": {},
   "outputs": [],
   "source": []
  },
  {
   "cell_type": "code",
   "execution_count": null,
   "metadata": {},
   "outputs": [],
   "source": []
  }
 ],
 "metadata": {
  "kernelspec": {
   "display_name": "Python 3",
   "language": "python",
   "name": "python3"
  },
  "language_info": {
   "codemirror_mode": {
    "name": "ipython",
    "version": 3
   },
   "file_extension": ".py",
   "mimetype": "text/x-python",
   "name": "python",
   "nbconvert_exporter": "python",
   "pygments_lexer": "ipython3",
   "version": "3.8.3"
  }
 },
 "nbformat": 4,
 "nbformat_minor": 4
}
