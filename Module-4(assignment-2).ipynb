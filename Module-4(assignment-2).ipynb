{
 "cells": [
  {
   "cell_type": "code",
   "execution_count": 3,
   "metadata": {},
   "outputs": [
    {
     "name": "stdout",
     "output_type": "stream",
     "text": [
      "1\n",
      "2\n",
      "Fizz:3\n",
      "4\n",
      "Buzz:5\n",
      "Fizz:6\n",
      "7\n",
      "8\n",
      "Fizz:9\n",
      "Buzz:10\n",
      "11\n",
      "Fizz:12\n",
      "13\n",
      "14\n",
      "FizzBuzz: 15\n",
      "16\n",
      "17\n",
      "Fizz:18\n",
      "19\n",
      "Buzz:20\n",
      "Fizz:21\n",
      "22\n",
      "23\n",
      "Fizz:24\n",
      "Buzz:25\n",
      "26\n",
      "Fizz:27\n",
      "28\n",
      "29\n",
      "FizzBuzz: 30\n",
      "31\n",
      "32\n",
      "Fizz:33\n",
      "34\n",
      "Buzz:35\n",
      "Fizz:36\n",
      "37\n",
      "38\n",
      "Fizz:39\n",
      "Buzz:40\n",
      "41\n",
      "Fizz:42\n",
      "43\n",
      "44\n",
      "FizzBuzz: 45\n",
      "46\n",
      "47\n",
      "Fizz:48\n",
      "49\n",
      "Buzz:50\n",
      "Fizz:51\n",
      "52\n",
      "53\n",
      "Fizz:54\n",
      "Buzz:55\n",
      "56\n",
      "Fizz:57\n",
      "58\n",
      "59\n",
      "FizzBuzz: 60\n",
      "61\n",
      "62\n",
      "Fizz:63\n",
      "64\n",
      "Buzz:65\n",
      "Fizz:66\n",
      "67\n",
      "68\n",
      "Fizz:69\n",
      "Buzz:70\n",
      "71\n",
      "Fizz:72\n",
      "73\n",
      "74\n",
      "FizzBuzz: 75\n",
      "76\n",
      "77\n",
      "Fizz:78\n",
      "79\n",
      "Buzz:80\n",
      "Fizz:81\n",
      "82\n",
      "83\n",
      "Fizz:84\n",
      "Buzz:85\n",
      "86\n",
      "Fizz:87\n",
      "88\n",
      "89\n",
      "FizzBuzz: 90\n",
      "91\n",
      "92\n",
      "Fizz:93\n",
      "94\n",
      "Buzz:95\n",
      "Fizz:96\n",
      "97\n",
      "98\n",
      "Fizz:99\n",
      "Buzz:100\n"
     ]
    }
   ],
   "source": [
    "#1.\n",
    "for num in range(1,101):\n",
    "    if num % 3 == 0 and num % 5 == 0:\n",
    "        print(\"FizzBuzz: \"+str(num))\n",
    "    elif num % 3 == 0:\n",
    "        print(\"Fizz:\" +str(num))\n",
    "    elif num % 5 == 0:\n",
    "        print(\"Buzz:\" +str(num))\n",
    "    else:\n",
    "        print(num)\n"
   ]
  },
  {
   "cell_type": "code",
   "execution_count": 9,
   "metadata": {
    "scrolled": false
   },
   "outputs": [
    {
     "name": "stdout",
     "output_type": "stream",
     "text": [
      "The original list is : [1, 4, 4, 4, 5, 6, 7, 4, 3, 3, 9]\n",
      "The list after removing consecutive duplicates : [1, 4, 5, 6, 7, 4, 3, 9]\n"
     ]
    }
   ],
   "source": [
    "#2.\n",
    "from itertools import groupby  \n",
    "test_list = [1,4, 4, 4, 5, 6, 7, 4, 3, 3, 9] \n",
    "print (\"The original list is : \" + str(test_list))\n",
    "res = [i[0] for i in groupby(test_list)] \n",
    "print (\"The list after removing consecutive duplicates : \" +  str(res)) \n",
    "\n"
   ]
  },
  {
   "cell_type": "code",
   "execution_count": 10,
   "metadata": {},
   "outputs": [
    {
     "name": "stdout",
     "output_type": "stream",
     "text": [
      "[1, 2, 3, 4, 5, 6]\n"
     ]
    }
   ],
   "source": [
    "#3.\n",
    "def unique_list(l):\n",
    "  x = []\n",
    "  for a in l:\n",
    "    if a not in x:\n",
    "      x.append(a)\n",
    "  return x\n",
    "print(unique_list([1,2,3,4,5,1,2,3,4,5,6])) \n"
   ]
  },
  {
   "cell_type": "code",
   "execution_count": 11,
   "metadata": {},
   "outputs": [
    {
     "name": "stdout",
     "output_type": "stream",
     "text": [
      "Original String :  Hello Mr.Rogers, how are you this fine Tuesday?\n",
      "No. of Upper case characters :  4\n",
      "No. of Lower case Characters :  33\n"
     ]
    }
   ],
   "source": [
    "#5.\n",
    "def string_test(s):\n",
    "    d={\"UPPER_CASE\":0, \"LOWER_CASE\":0}\n",
    "    for c in s:\n",
    "        if c.isupper():\n",
    "           d[\"UPPER_CASE\"]+=1\n",
    "        elif c.islower():\n",
    "           d[\"LOWER_CASE\"]+=1\n",
    "        else:\n",
    "           pass\n",
    "    print (\"Original String : \", s)\n",
    "    print (\"No. of Upper case characters : \", d[\"UPPER_CASE\"])\n",
    "    print (\"No. of Lower case Characters : \", d[\"LOWER_CASE\"])\n",
    "string_test('Hello Mr.Rogers, how are you this fine Tuesday?')\n",
    "\n",
    "\n"
   ]
  },
  {
   "cell_type": "code",
   "execution_count": null,
   "metadata": {},
   "outputs": [],
   "source": []
  },
  {
   "cell_type": "code",
   "execution_count": null,
   "metadata": {},
   "outputs": [],
   "source": []
  }
 ],
 "metadata": {
  "kernelspec": {
   "display_name": "Python 3",
   "language": "python",
   "name": "python3"
  },
  "language_info": {
   "codemirror_mode": {
    "name": "ipython",
    "version": 3
   },
   "file_extension": ".py",
   "mimetype": "text/x-python",
   "name": "python",
   "nbconvert_exporter": "python",
   "pygments_lexer": "ipython3",
   "version": "3.8.3"
  }
 },
 "nbformat": 4,
 "nbformat_minor": 4
}
