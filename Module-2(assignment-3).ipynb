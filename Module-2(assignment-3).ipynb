{
 "cells": [
  {
   "cell_type": "code",
   "execution_count": 1,
   "metadata": {},
   "outputs": [
    {
     "name": "stdout",
     "output_type": "stream",
     "text": [
      "Enter the radius of the circle: 6\n",
      "113.10\n"
     ]
    }
   ],
   "source": [
    "#1.\n",
    "import math\n",
    "r = float(input(\"Enter the radius of the circle: \"))\n",
    "area = math.pi* r * r\n",
    "print(\"%.2f\" %area)\n"
   ]
  },
  {
   "cell_type": "code",
   "execution_count": 2,
   "metadata": {},
   "outputs": [
    {
     "name": "stdout",
     "output_type": "stream",
     "text": [
      "Input number of sides: 8\n",
      "Input the length of a side: 6\n",
      "The area of the polygon is:  173.82337649086284\n"
     ]
    }
   ],
   "source": [
    "#2.\n",
    "from math import tan, pi\n",
    "n_sides = int(input(\"Input number of sides: \"))\n",
    "s_length = float(input(\"Input the length of a side: \"))\n",
    "p_area = n_sides * (s_length ** 2) / (4 * tan(pi / n_sides))\n",
    "print(\"The area of the polygon is: \",p_area)\n",
    "\n",
    "\n"
   ]
  },
  {
   "cell_type": "code",
   "execution_count": 1,
   "metadata": {},
   "outputs": [
    {
     "name": "stdout",
     "output_type": "stream",
     "text": [
      "Radius of Circle: 8\n",
      "angle measure: 2\n",
      "Sector Area:  1.1174603174603175\n"
     ]
    }
   ],
   "source": [
    "#3.\n",
    "def sectorarea():\n",
    "    pi=22/7\n",
    "    radius = float(input('Radius of Circle: '))\n",
    "    angle = float(input('angle measure: '))\n",
    "    if angle >= 360:\n",
    "        print(\"Angle is not possible\")\n",
    "        return\n",
    "    sur_area = (pi*radius**2) * (angle/360)\n",
    "    print(\"Sector Area: \", sur_area)\n",
    "\n",
    "sectorarea()\n"
   ]
  },
  {
   "cell_type": "code",
   "execution_count": 2,
   "metadata": {},
   "outputs": [
    {
     "name": "stdout",
     "output_type": "stream",
     "text": [
      "Original list: [100, 1, 2, 30, 40, 'hai', 'hello']\n",
      "List after first shuffle: [2, 40, 1, 'hello', 'hai', 100, 30]\n",
      "List after second shuffle: [2, 100, 40, 1, 'hello', 30, 'hai']\n"
     ]
    }
   ],
   "source": [
    "#4.\n",
    "import random\n",
    "number_list = [100, 1, 2, 30, 40, \"hai\", \"hello\"]\n",
    "print(\"Original list:\", number_list)\n",
    "random.shuffle(number_list)\n",
    "print(\"List after first shuffle:\", number_list)\n",
    "random.shuffle(number_list)\n",
    "print(\"List after second shuffle:\", number_list)\n"
   ]
  },
  {
   "cell_type": "code",
   "execution_count": 18,
   "metadata": {},
   "outputs": [
    {
     "name": "stdout",
     "output_type": "stream",
     "text": [
      "The value of sine of pi / 6 is : The value of cos of pi / 6 is : The value of tan of pi / 2 is : 0.49999999999999994\n",
      "0.8660254037844387\n",
      "1.633123935319537e+16\n",
      "The square root of 400.000 is 20.000\n",
      "Logarithm base 2 of 1024 is : 10.0\n",
      "Logarithm base 10 of 1024 is : 3.010299956639812\n",
      "math.floor(23.56) :  23\n",
      "math.ceil(23.56) :  24\n"
     ]
    }
   ],
   "source": [
    "#6.\n",
    "import math  \n",
    "a = math.pi / 6\n",
    "b = math.pi / 6\n",
    "c = math.pi / 2\n",
    "num = 400\n",
    "print(\"The value of sine of pi / 6 is : \", end =\"\")\n",
    "print(\"The value of cos of pi / 6 is : \", end=\"\") \n",
    "print(\"The value of tan of pi / 2 is : \", end=\"\") \n",
    "print (math.sin(a))\n",
    "print(math.cos(b))\n",
    "print(math.tan(c))\n",
    "num_sqrt = num ** 0.5\n",
    "print('The square root of %0.3f is %0.3f'%(num ,num_sqrt))\n",
    "print (\"Logarithm base 2 of 1024 is : \", end=\"\") \n",
    "print (math.log2(1024)) \n",
    "print (\"Logarithm base 10 of 1024 is : \", end=\"\") \n",
    "print (math.log10(1024)) \n",
    "print (\"math.floor(23.56) : \", math.floor(23.56))\n",
    "print (\"math.ceil(23.56) : \", math.ceil(23.56)) \n",
    "\n",
    "\n",
    "\n",
    "\n"
   ]
  },
  {
   "cell_type": "code",
   "execution_count": null,
   "metadata": {},
   "outputs": [],
   "source": []
  }
 ],
 "metadata": {
  "kernelspec": {
   "display_name": "Python 3",
   "language": "python",
   "name": "python3"
  },
  "language_info": {
   "codemirror_mode": {
    "name": "ipython",
    "version": 3
   },
   "file_extension": ".py",
   "mimetype": "text/x-python",
   "name": "python",
   "nbconvert_exporter": "python",
   "pygments_lexer": "ipython3",
   "version": "3.8.3"
  }
 },
 "nbformat": 4,
 "nbformat_minor": 4
}
