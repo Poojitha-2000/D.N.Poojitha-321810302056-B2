{
 "cells": [
  {
   "cell_type": "code",
   "execution_count": 1,
   "metadata": {},
   "outputs": [
    {
     "name": "stdout",
     "output_type": "stream",
     "text": [
      "Enter the first number:10\n",
      "Enter the second number:18\n",
      "Enter the third number:12\n",
      "Maximum number is::> 18\n"
     ]
    }
   ],
   "source": [
    "#1.\n",
    "def maximum(a,b,c):\n",
    "    list = [a,b,c]\n",
    "    return max(list)\n",
    "#Driven code\n",
    "x=int(input('Enter the first number:'))\n",
    "y=int(input('Enter the second number:'))\n",
    "z=int(input('Enter the third number:'))\n",
    "print('Maximum number is::>',maximum(x, y, z))\n",
    "\n"
   ]
  },
  {
   "cell_type": "code",
   "execution_count": 2,
   "metadata": {},
   "outputs": [
    {
     "name": "stdout",
     "output_type": "stream",
     "text": [
      "Enter a string:Python\n",
      "Reverse of the string is:\n",
      "nohtyP\n"
     ]
    }
   ],
   "source": [
    "#2.\n",
    "a=str(input('Enter a string:'))\n",
    "print('Reverse of the string is:')\n",
    "print(a[::-1])"
   ]
  },
  {
   "cell_type": "code",
   "execution_count": 3,
   "metadata": {},
   "outputs": [
    {
     "name": "stdout",
     "output_type": "stream",
     "text": [
      "False\n"
     ]
    }
   ],
   "source": [
    "#3.\n",
    "def test_prime(n):\n",
    "    if (n==1):\n",
    "        return False\n",
    "    elif (n==2):\n",
    "        return True;\n",
    "    else:\n",
    "        for x in range(2,n):\n",
    "            if(n % x==0):\n",
    "                return False\n",
    "        return True             \n",
    "print(test_prime(12))\n",
    "\n"
   ]
  },
  {
   "cell_type": "code",
   "execution_count": 5,
   "metadata": {},
   "outputs": [
    {
     "name": "stdout",
     "output_type": "stream",
     "text": [
      "Yes\n"
     ]
    }
   ],
   "source": [
    "#4.\n",
    "def isPalindrome(s): \n",
    "    return s == s[::-1] \n",
    "  \n",
    "  \n",
    "# Driver code \n",
    "s = \"malayalam\"\n",
    "ans = isPalindrome(s) \n",
    "  \n",
    "if ans: \n",
    "    print(\"Yes\") \n",
    "else: \n",
    "    print(\"No\") \n",
    "\n",
    "\n",
    "\n"
   ]
  },
  {
   "cell_type": "code",
   "execution_count": 6,
   "metadata": {},
   "outputs": [
    {
     "name": "stdout",
     "output_type": "stream",
     "text": [
      "55\n"
     ]
    }
   ],
   "source": [
    "#5.\n",
    "def sqsum(n) :\n",
    "   sm = 0\n",
    "   for i in range(1, n+1) :\n",
    "      sm = sm + pow(i,2)\n",
    "   return sm\n",
    "# main\n",
    "n = 5\n",
    "print(sqsum(n))\n"
   ]
  },
  {
   "cell_type": "code",
   "execution_count": null,
   "metadata": {},
   "outputs": [],
   "source": []
  },
  {
   "cell_type": "code",
   "execution_count": null,
   "metadata": {},
   "outputs": [],
   "source": []
  }
 ],
 "metadata": {
  "kernelspec": {
   "display_name": "Python 3",
   "language": "python",
   "name": "python3"
  },
  "language_info": {
   "codemirror_mode": {
    "name": "ipython",
    "version": 3
   },
   "file_extension": ".py",
   "mimetype": "text/x-python",
   "name": "python",
   "nbconvert_exporter": "python",
   "pygments_lexer": "ipython3",
   "version": "3.8.3"
  }
 },
 "nbformat": 4,
 "nbformat_minor": 4
}
